{
 "cells": [
  {
   "cell_type": "markdown",
   "metadata": {},
   "source": [
    "# MNIST DCGAN\n",
    "Simplest example based on this tutorial:\n",
    "* [Blog post](https://www.oreilly.com/learning/generative-adversarial-networks-for-beginners)\n",
    "* [Code](https://github.com/jonbruner/generative-adversarial-networks.git)\n"
   ]
  },
  {
   "cell_type": "code",
   "execution_count": 1,
   "metadata": {
    "collapsed": false
   },
   "outputs": [],
   "source": [
    "import numpy as np\n",
    "import tensorflow as tf\n",
    "\n",
    "# Include modules from other directories\n",
    "import sys\n",
    "sys.path.append('../tensorflow/')\n",
    "import model_util as util\n",
    "import models\n",
    "import anim_util as anim\n",
    "\n",
    "import os\n",
    "os.environ[\"CUDA_VISIBLE_DEVICES\"] = str(0)\n",
    "\n",
    "# Fix seed to reproduce same results\n",
    "seed = 42\n",
    "np.random.seed(seed)\n",
    "tf.set_random_seed(seed)\n",
    "\n",
    "# Some meta parameters\n",
    "START_LR_GEN = 0.0001\n",
    "START_LR_DISC = 0.0003\n",
    "decay = 0.95\n",
    "num_steps = 50000\n",
    "batch_size = 50\n",
    "num_decay_steps = 5000\n",
    "logs_path = './logs'\n",
    "save_dir = './save'\n",
    "gpu_fraction = 0.1\n",
    "LATENT_SIZE=100\n",
    "\n",
    "# Delete logs directory if exist\n",
    "if os.path.exists(logs_path):        \n",
    "    os.system(\"rm -rf \" + logs_path)"
   ]
  },
  {
   "cell_type": "markdown",
   "metadata": {},
   "source": [
    "## Get MNIST Data"
   ]
  },
  {
   "cell_type": "code",
   "execution_count": 2,
   "metadata": {
    "collapsed": false
   },
   "outputs": [
    {
     "name": "stdout",
     "output_type": "stream",
     "text": [
      "Extracting MNIST_data/train-images-idx3-ubyte.gz\n",
      "Extracting MNIST_data/train-labels-idx1-ubyte.gz\n",
      "Extracting MNIST_data/t10k-images-idx3-ubyte.gz\n",
      "Extracting MNIST_data/t10k-labels-idx1-ubyte.gz\n"
     ]
    }
   ],
   "source": [
    "from tensorflow.examples.tutorials.mnist import input_data\n",
    "mnist = input_data.read_data_sets(\"MNIST_data/\", one_hot=True)"
   ]
  },
  {
   "cell_type": "markdown",
   "metadata": {},
   "source": [
    "### Define DCGAN Model"
   ]
  },
  {
   "cell_type": "code",
   "execution_count": 3,
   "metadata": {
    "collapsed": false
   },
   "outputs": [],
   "source": [
    "model_gan = models.DCGAN(img_size=28, latent_size=LATENT_SIZE, training_mode=True)\n",
    "D_real = model_gan.output_discriminator_real\n",
    "D_fake = model_gan.output_discriminator_fake\n",
    "model_trainable_vars = model_gan.trainable_variables\n",
    "G = model_gan.output_generator\n",
    "X = model_gan.discriminator_input_real\n",
    "Z = model_gan.generator_input"
   ]
  },
  {
   "cell_type": "markdown",
   "metadata": {},
   "source": [
    "### Define Loss function"
   ]
  },
  {
   "cell_type": "code",
   "execution_count": 4,
   "metadata": {
    "collapsed": true
   },
   "outputs": [],
   "source": [
    "with tf.variable_scope('loss_disc'):\n",
    "    # Define losses\n",
    "    #loss_d = -tf.reduce_mean(tf.log(D_real) + tf.log(1 - D_fake))    \n",
    "    d_loss_real = tf.reduce_mean(tf.nn.sigmoid_cross_entropy_with_logits(logits=D_real, labels=tf.fill([batch_size, 1], 0.9)))\n",
    "    d_loss_fake = tf.reduce_mean(tf.nn.sigmoid_cross_entropy_with_logits(logits=D_fake, labels=tf.zeros_like(D_fake)))\n",
    "    loss_d = d_loss_real + d_loss_fake\n",
    "    \n",
    "with tf.variable_scope('loss_gen'):\n",
    "    #loss_g = -tf.reduce_mean(tf.log(D_fake))\n",
    "    loss_g = tf.reduce_mean(tf.nn.sigmoid_cross_entropy_with_logits(logits=D_fake, labels=tf.ones_like(D_fake)))"
   ]
  },
  {
   "cell_type": "markdown",
   "metadata": {},
   "source": [
    "### Get parameters from Generator and Discriminator"
   ]
  },
  {
   "cell_type": "code",
   "execution_count": 5,
   "metadata": {
    "collapsed": true
   },
   "outputs": [],
   "source": [
    "vars = model_trainable_vars\n",
    "d_params = [v for v in vars if v.name.startswith('GAN/D/')]\n",
    "g_params = [v for v in vars if v.name.startswith('GAN/G/')]"
   ]
  },
  {
   "cell_type": "markdown",
   "metadata": {},
   "source": [
    "### Create the Session\n",
    "Basically ask tensorflow to build the graph"
   ]
  },
  {
   "cell_type": "code",
   "execution_count": 6,
   "metadata": {
    "collapsed": true
   },
   "outputs": [],
   "source": [
    "# Avoid allocating the whole memory\n",
    "gpu_options = tf.GPUOptions(per_process_gpu_memory_fraction=gpu_fraction)\n",
    "sess = tf.InteractiveSession(config=tf.ConfigProto(gpu_options=gpu_options))"
   ]
  },
  {
   "cell_type": "markdown",
   "metadata": {},
   "source": [
    "### Define the solver\n",
    "We want to use the Adam solver to minimize or loss function."
   ]
  },
  {
   "cell_type": "code",
   "execution_count": 7,
   "metadata": {
    "collapsed": false
   },
   "outputs": [],
   "source": [
    "def optimizer(loss, var_list, name='Solver', start_lr=0.0001):\n",
    "    # Solver configuration\n",
    "    # Get ops to update moving_mean and moving_variance from batch_norm\n",
    "    # Reference: https://www.tensorflow.org/api_docs/python/tf/contrib/layers/batch_norm\n",
    "    update_ops = tf.get_collection(tf.GraphKeys.UPDATE_OPS)\n",
    "    with tf.name_scope(name):\n",
    "        global_step = tf.Variable(0, trainable=False)\n",
    "        starter_learning_rate = start_lr\n",
    "        # decay every 10000 steps with a base of 0.96\n",
    "        learning_rate = tf.train.exponential_decay(starter_learning_rate, global_step,\n",
    "                                                   num_decay_steps, decay, staircase=True)\n",
    "\n",
    "        # Basically update the batch_norm moving averages before the training step\n",
    "        # http://ruishu.io/2016/12/27/batchnorm/\n",
    "        with tf.control_dependencies(update_ops):\n",
    "            train_step = tf.train.AdamOptimizer(\n",
    "                learning_rate).minimize(loss, global_step=global_step, var_list=var_list)\n",
    "    \n",
    "    return train_step, learning_rate\n"
   ]
  },
  {
   "cell_type": "code",
   "execution_count": 8,
   "metadata": {
    "collapsed": false
   },
   "outputs": [],
   "source": [
    "opt_disc_real, lr_disc = optimizer(d_loss_real, d_params, name='Solver_Disc', start_lr=START_LR_DISC)\n",
    "opt_disc_fake, lr_disc = optimizer(d_loss_fake, d_params, name='Solver_Disc', start_lr=START_LR_DISC)\n",
    "opt_gen, lr_gen = optimizer(loss_g, g_params, name='Solver_Gen', start_lr=START_LR_GEN)"
   ]
  },
  {
   "cell_type": "markdown",
   "metadata": {},
   "source": [
    "### Add some variables to tensorboard"
   ]
  },
  {
   "cell_type": "code",
   "execution_count": 9,
   "metadata": {
    "collapsed": false
   },
   "outputs": [],
   "source": [
    "# Create histogram for labels\n",
    "tf.summary.image(\"in_disc_real\", X, 4)\n",
    "tf.summary.image(\"generator\", G, 4)\n",
    "\n",
    "# Monitor loss, learning_rate, global_step, etc...\n",
    "tf.summary.scalar(\"loss_disc\", loss_d)\n",
    "tf.summary.scalar(\"loss_disc_real\", d_loss_real)\n",
    "tf.summary.scalar(\"loss_disc_fake\", d_loss_fake)\n",
    "tf.summary.scalar(\"loss_gen\", loss_g)\n",
    "tf.summary.scalar(\"lr_disc\", lr_disc)\n",
    "tf.summary.scalar(\"lr_gen\", lr_gen)\n",
    "# merge all summaries into a single op\n",
    "merged_summary_op = tf.summary.merge_all()\n",
    "\n",
    "# Configure where to save the logs for tensorboard\n",
    "summary_writer = tf.summary.FileWriter(logs_path, graph=tf.get_default_graph())"
   ]
  },
  {
   "cell_type": "markdown",
   "metadata": {},
   "source": [
    "### Initialize the values (Random values of weights)"
   ]
  },
  {
   "cell_type": "code",
   "execution_count": null,
   "metadata": {
    "collapsed": true
   },
   "outputs": [],
   "source": [
    "# Initialize all random variables (Weights/Bias)\n",
    "sess.run(tf.global_variables_initializer())"
   ]
  },
  {
   "cell_type": "code",
   "execution_count": null,
   "metadata": {
    "collapsed": false
   },
   "outputs": [
    {
     "name": "stdout",
     "output_type": "stream",
     "text": [
      "Pre-train the discriminator\n",
      "Train discriminator and generator together\n"
     ]
    }
   ],
   "source": [
    "print('Pre-train the discriminator')\n",
    "# Pre-train the discriminator\n",
    "for step in range(300):\n",
    "    # Gather some real data and some latent z values    \n",
    "    x_np = mnist.train.next_batch(batch_size)[0].reshape([batch_size, 28, 28, 1])    \n",
    "    z_np = np.random.uniform(0, 1, [batch_size, LATENT_SIZE])\n",
    "    \n",
    "    # update discriminator\n",
    "    sess.run([loss_d, opt_disc_real, opt_disc_fake], {X: x_np,Z: z_np})        \n",
    "    \n",
    "    if step % 10 == 0:\n",
    "        # write logs at every iteration\n",
    "        summary = merged_summary_op.eval(feed_dict={X: x_np,Z: z_np})\n",
    "        summary_writer.add_summary(summary, step)\n",
    "\n",
    "print('Train discriminator and generator together')\n",
    "for step in range(num_steps):\n",
    "    # Gather some real data and some latent z values    \n",
    "    x_np = mnist.train.next_batch(batch_size)[0].reshape([batch_size, 28, 28, 1])\n",
    "    #z_np = np.random.normal(0, 0.1, [batch_size, LATENT_SIZE])\n",
    "    z_np = np.random.uniform(0, 1, [batch_size, LATENT_SIZE])\n",
    "    \n",
    "    # update discriminator\n",
    "    sess.run([loss_d, opt_disc_real, opt_disc_fake], {X: x_np,Z: z_np})        \n",
    "\n",
    "    # update generator    \n",
    "    z_np = np.random.uniform(0, 1, [batch_size, LATENT_SIZE])\n",
    "    sess.run([loss_g, opt_gen], {Z: z_np})    \n",
    "    \n",
    "    if step % 10 == 0:\n",
    "        # write logs at every iteration\n",
    "        summary = merged_summary_op.eval(feed_dict={X: x_np,Z: z_np})\n",
    "        summary_writer.add_summary(summary, step)\n",
    "        "
   ]
  }
 ],
 "metadata": {
  "kernelspec": {
   "display_name": "Python 3",
   "language": "python",
   "name": "python3"
  },
  "language_info": {
   "codemirror_mode": {
    "name": "ipython",
    "version": 3
   },
   "file_extension": ".py",
   "mimetype": "text/x-python",
   "name": "python",
   "nbconvert_exporter": "python",
   "pygments_lexer": "ipython3",
   "version": "3.6.0"
  }
 },
 "nbformat": 4,
 "nbformat_minor": 2
}
