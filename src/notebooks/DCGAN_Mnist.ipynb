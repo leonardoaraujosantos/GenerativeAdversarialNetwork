{
 "cells": [
  {
   "cell_type": "markdown",
   "metadata": {},
   "source": [
    "# Simplest 1D Gan\n",
    "Simplest example based on this tutorial:\n",
    "* [Blog post](http://blog.aylien.com/introduction-generative-adversarial-networks-code-tensorflow/)\n",
    "* [Code](https://github.com/AYLIEN/gan-intro)\n",
    "* [Reference of the reference](http://blog.evjang.com/2016/06/generative-adversarial-nets-in.html)\n",
    "\n",
    "### Other References\n",
    "* [Fantastic GANS and Where to find them](http://guimperarnau.com/blog/2017/03/Fantastic-GANs-and-where-to-find-them)\n",
    "* [Karpathy Demo](http://cs.stanford.edu/people/karpathy/gan/)\n",
    "* [Probabiliy Theory Basics](https://medium.com/@dubovikov.kirill/probabiliy-theory-basics-4ef523ae0820)\n",
    "* [Ian Goodfellow Paper](https://arxiv.org/pdf/1406.2661.pdf)\n",
    "* [How do GANs intuitively work](https://hackernoon.com/how-do-gans-intuitively-work-2dda07f247a1)\n",
    "* [Mode Collapse](http://aiden.nibali.org/blog/2017-01-18-mode-collapse-gans/)\n",
    "* [Gan Objective](http://aiden.nibali.org/blog/2016-12-21-gan-objective/)\n",
    "* [Tensorflow sharing variables](https://www.tensorflow.org/programmers_guide/variable_scope)\n",
    "* [BEGAN blog](https://blog.heuritech.com/2017/04/11/began-state-of-the-art-generation-of-faces-with-generative-adversarial-networks/)\n",
    "* [BEGAN paper](https://arxiv.org/pdf/1703.10717.pdf)\n",
    "* [BEGAN Tensorflow](https://github.com/carpedm20/BEGAN-tensorflow)\n",
    "* [BEGAN Reddit](https://www.reddit.com/r/MachineLearning/comments/633jal/r170310717_began_boundary_equilibrium_generative/)\n",
    "* [Veegan blog](https://akashgit.github.io/VEEGAN/)\n",
    "* [Veegan paper](https://arxiv.org/pdf/1705.07761.pdf)\n",
    "* [Unrolled Gans](https://arxiv.org/pdf/1611.02163.pdf)\n",
    "* [F-Gan](https://arxiv.org/pdf/1606.00709.pdf)\n",
    "* [Gans in Keras](https://github.com/eriklindernoren/Keras-GAN)"
   ]
  },
  {
   "cell_type": "code",
   "execution_count": 1,
   "metadata": {
    "collapsed": false
   },
   "outputs": [],
   "source": [
    "import numpy as np\n",
    "import tensorflow as tf\n",
    "\n",
    "# Include modules from other directories\n",
    "import sys\n",
    "sys.path.append('../tensorflow/')\n",
    "import model_util as util\n",
    "import models\n",
    "import anim_util as anim\n",
    "\n",
    "import os\n",
    "os.environ[\"CUDA_VISIBLE_DEVICES\"] = str(0)\n",
    "\n",
    "# Fix seed to reproduce same results\n",
    "seed = 42\n",
    "np.random.seed(seed)\n",
    "tf.set_random_seed(seed)\n",
    "\n",
    "# Some meta parameters\n",
    "start_lr = 0.005\n",
    "decay = 0.95\n",
    "num_steps = 5000\n",
    "batch_size = 8\n",
    "num_decay_steps = 150\n",
    "logs_path = './logs'\n",
    "save_dir = './save'\n",
    "gpu_fraction = 0.1\n",
    "\n",
    "# Delete logs directory if exist\n",
    "if os.path.exists(logs_path):        \n",
    "    os.system(\"rm -rf \" + logs_path)"
   ]
  },
  {
   "cell_type": "markdown",
   "metadata": {},
   "source": [
    "## Get MNIST Data"
   ]
  },
  {
   "cell_type": "code",
   "execution_count": 2,
   "metadata": {
    "collapsed": false
   },
   "outputs": [
    {
     "name": "stdout",
     "output_type": "stream",
     "text": [
      "Extracting MNIST_data/train-images-idx3-ubyte.gz\n",
      "Extracting MNIST_data/train-labels-idx1-ubyte.gz\n",
      "Extracting MNIST_data/t10k-images-idx3-ubyte.gz\n",
      "Extracting MNIST_data/t10k-labels-idx1-ubyte.gz\n"
     ]
    }
   ],
   "source": [
    "from tensorflow.examples.tutorials.mnist import input_data\n",
    "mnist = input_data.read_data_sets(\"MNIST_data/\", one_hot=True)"
   ]
  },
  {
   "cell_type": "markdown",
   "metadata": {},
   "source": [
    "### Define DCGAN Model"
   ]
  },
  {
   "cell_type": "code",
   "execution_count": 3,
   "metadata": {
    "collapsed": false
   },
   "outputs": [],
   "source": [
    "model_gan = models.DCGAN(img_size=28, latent_size=100, training_mode=True)\n",
    "D_real = model_gan.output_discriminator_real\n",
    "D_fake = model_gan.output_discriminator_fake\n",
    "model_trainable_vars = model_gan.trainable_variables\n",
    "G = model_gan.output_generator\n",
    "X = model_gan.discriminator_input_real\n",
    "Z = model_gan.generator_input"
   ]
  },
  {
   "cell_type": "markdown",
   "metadata": {},
   "source": [
    "### Define Loss function"
   ]
  },
  {
   "cell_type": "code",
   "execution_count": 4,
   "metadata": {
    "collapsed": true
   },
   "outputs": [],
   "source": [
    "with tf.variable_scope('loss_disc'):\n",
    "    # Define losses\n",
    "    loss_d = tf.reduce_mean(-tf.log(D_real) - tf.log(1 - D_fake))\n",
    "\n",
    "with tf.variable_scope('loss_gen'):\n",
    "    loss_g = tf.reduce_mean(-tf.log(D_fake))"
   ]
  },
  {
   "cell_type": "markdown",
   "metadata": {},
   "source": [
    "### Get parameters from Generator and Discriminator"
   ]
  },
  {
   "cell_type": "code",
   "execution_count": 5,
   "metadata": {
    "collapsed": true
   },
   "outputs": [],
   "source": [
    "vars = model_trainable_vars\n",
    "d_params = [v for v in vars if v.name.startswith('GAN/D/')]\n",
    "g_params = [v for v in vars if v.name.startswith('GAN/G/')]"
   ]
  },
  {
   "cell_type": "markdown",
   "metadata": {},
   "source": [
    "### Create the Session\n",
    "Basically ask tensorflow to build the graph"
   ]
  },
  {
   "cell_type": "code",
   "execution_count": 6,
   "metadata": {
    "collapsed": true
   },
   "outputs": [],
   "source": [
    "# Avoid allocating the whole memory\n",
    "gpu_options = tf.GPUOptions(per_process_gpu_memory_fraction=gpu_fraction)\n",
    "sess = tf.InteractiveSession(config=tf.ConfigProto(gpu_options=gpu_options))"
   ]
  },
  {
   "cell_type": "markdown",
   "metadata": {},
   "source": [
    "### Define the solver\n",
    "We want to use the Adam solver to minimize or loss function."
   ]
  },
  {
   "cell_type": "code",
   "execution_count": 7,
   "metadata": {
    "collapsed": true
   },
   "outputs": [],
   "source": [
    "def optimizer(loss, var_list, name='Solver'):\n",
    "    # Solver configuration\n",
    "    # Get ops to update moving_mean and moving_variance from batch_norm\n",
    "    # Reference: https://www.tensorflow.org/api_docs/python/tf/contrib/layers/batch_norm\n",
    "    update_ops = tf.get_collection(tf.GraphKeys.UPDATE_OPS)\n",
    "    with tf.name_scope(name):\n",
    "        global_step = tf.Variable(0, trainable=False)\n",
    "        starter_learning_rate = start_lr\n",
    "        # decay every 10000 steps with a base of 0.96\n",
    "        learning_rate = tf.train.exponential_decay(starter_learning_rate, global_step,\n",
    "                                                   num_decay_steps, decay, staircase=True)\n",
    "\n",
    "        # Basically update the batch_norm moving averages before the training step\n",
    "        # http://ruishu.io/2016/12/27/batchnorm/\n",
    "        with tf.control_dependencies(update_ops):\n",
    "            train_step = tf.train.AdamOptimizer(\n",
    "                learning_rate).minimize(loss, global_step=global_step, var_list=var_list)\n",
    "    \n",
    "    return train_step, learning_rate\n"
   ]
  },
  {
   "cell_type": "code",
   "execution_count": 8,
   "metadata": {
    "collapsed": true
   },
   "outputs": [],
   "source": [
    "opt_disc, lr_disc = optimizer(loss_d, d_params, 'Solver_Disc')\n",
    "opt_gen, lr_gen = optimizer(loss_g, g_params, 'Solver_Gen')"
   ]
  },
  {
   "cell_type": "markdown",
   "metadata": {},
   "source": [
    "### Add some variables to tensorboard"
   ]
  },
  {
   "cell_type": "code",
   "execution_count": 9,
   "metadata": {
    "collapsed": false
   },
   "outputs": [],
   "source": [
    "# Create histogram for labels\n",
    "tf.summary.image(\"in_disc_real\", X, 4)\n",
    "tf.summary.image(\"generator\", G, 4)\n",
    "\n",
    "# Monitor loss, learning_rate, global_step, etc...\n",
    "tf.summary.scalar(\"loss_disc\", loss_d)\n",
    "tf.summary.scalar(\"loss_gen\", loss_g)\n",
    "tf.summary.scalar(\"lr_disc\", lr_disc)\n",
    "tf.summary.scalar(\"lr_gen\", lr_gen)\n",
    "# merge all summaries into a single op\n",
    "merged_summary_op = tf.summary.merge_all()\n",
    "\n",
    "# Configure where to save the logs for tensorboard\n",
    "summary_writer = tf.summary.FileWriter(logs_path, graph=tf.get_default_graph())"
   ]
  },
  {
   "cell_type": "markdown",
   "metadata": {},
   "source": [
    "### Initialize the values (Random values of weights)"
   ]
  },
  {
   "cell_type": "code",
   "execution_count": 10,
   "metadata": {
    "collapsed": true
   },
   "outputs": [],
   "source": [
    "# Initialize all random variables (Weights/Bias)\n",
    "sess.run(tf.global_variables_initializer())"
   ]
  },
  {
   "cell_type": "code",
   "execution_count": 11,
   "metadata": {
    "collapsed": false
   },
   "outputs": [
    {
     "ename": "ValueError",
     "evalue": "could not broadcast input array from shape (8,784) into shape (8)",
     "output_type": "error",
     "traceback": [
      "\u001b[0;31m---------------------------------------------------------------------------\u001b[0m",
      "\u001b[0;31mValueError\u001b[0m                                Traceback (most recent call last)",
      "\u001b[0;32m<ipython-input-11-696eb7686a6d>\u001b[0m in \u001b[0;36m<module>\u001b[0;34m()\u001b[0m\n\u001b[1;32m      5\u001b[0m \u001b[0;34m\u001b[0m\u001b[0m\n\u001b[1;32m      6\u001b[0m     \u001b[0;31m# update discriminator\u001b[0m\u001b[0;34m\u001b[0m\u001b[0;34m\u001b[0m\u001b[0m\n\u001b[0;32m----> 7\u001b[0;31m     \u001b[0msess\u001b[0m\u001b[0;34m.\u001b[0m\u001b[0mrun\u001b[0m\u001b[0;34m(\u001b[0m\u001b[0;34m[\u001b[0m\u001b[0mloss_d\u001b[0m\u001b[0;34m,\u001b[0m \u001b[0mopt_disc\u001b[0m\u001b[0;34m]\u001b[0m\u001b[0;34m,\u001b[0m \u001b[0;34m{\u001b[0m\u001b[0mX\u001b[0m\u001b[0;34m:\u001b[0m \u001b[0mx_np\u001b[0m\u001b[0;34m,\u001b[0m\u001b[0mZ\u001b[0m\u001b[0;34m:\u001b[0m \u001b[0mz_np\u001b[0m\u001b[0;34m}\u001b[0m\u001b[0;34m)\u001b[0m\u001b[0;34m\u001b[0m\u001b[0m\n\u001b[0m\u001b[1;32m      8\u001b[0m \u001b[0;34m\u001b[0m\u001b[0m\n\u001b[1;32m      9\u001b[0m     \u001b[0;31m# update generator\u001b[0m\u001b[0;34m\u001b[0m\u001b[0;34m\u001b[0m\u001b[0m\n",
      "\u001b[0;32m/home/leoara01/anaconda3/lib/python3.6/site-packages/tensorflow/python/client/session.py\u001b[0m in \u001b[0;36mrun\u001b[0;34m(self, fetches, feed_dict, options, run_metadata)\u001b[0m\n\u001b[1;32m    787\u001b[0m     \u001b[0;32mtry\u001b[0m\u001b[0;34m:\u001b[0m\u001b[0;34m\u001b[0m\u001b[0m\n\u001b[1;32m    788\u001b[0m       result = self._run(None, fetches, feed_dict, options_ptr,\n\u001b[0;32m--> 789\u001b[0;31m                          run_metadata_ptr)\n\u001b[0m\u001b[1;32m    790\u001b[0m       \u001b[0;32mif\u001b[0m \u001b[0mrun_metadata\u001b[0m\u001b[0;34m:\u001b[0m\u001b[0;34m\u001b[0m\u001b[0m\n\u001b[1;32m    791\u001b[0m         \u001b[0mproto_data\u001b[0m \u001b[0;34m=\u001b[0m \u001b[0mtf_session\u001b[0m\u001b[0;34m.\u001b[0m\u001b[0mTF_GetBuffer\u001b[0m\u001b[0;34m(\u001b[0m\u001b[0mrun_metadata_ptr\u001b[0m\u001b[0;34m)\u001b[0m\u001b[0;34m\u001b[0m\u001b[0m\n",
      "\u001b[0;32m/home/leoara01/anaconda3/lib/python3.6/site-packages/tensorflow/python/client/session.py\u001b[0m in \u001b[0;36m_run\u001b[0;34m(self, handle, fetches, feed_dict, options, run_metadata)\u001b[0m\n\u001b[1;32m    966\u001b[0m             \u001b[0mfeed_handles\u001b[0m\u001b[0;34m[\u001b[0m\u001b[0msubfeed_name\u001b[0m\u001b[0;34m]\u001b[0m \u001b[0;34m=\u001b[0m \u001b[0msubfeed_val\u001b[0m\u001b[0;34m\u001b[0m\u001b[0m\n\u001b[1;32m    967\u001b[0m           \u001b[0;32melse\u001b[0m\u001b[0;34m:\u001b[0m\u001b[0;34m\u001b[0m\u001b[0m\n\u001b[0;32m--> 968\u001b[0;31m             \u001b[0mnp_val\u001b[0m \u001b[0;34m=\u001b[0m \u001b[0mnp\u001b[0m\u001b[0;34m.\u001b[0m\u001b[0masarray\u001b[0m\u001b[0;34m(\u001b[0m\u001b[0msubfeed_val\u001b[0m\u001b[0;34m,\u001b[0m \u001b[0mdtype\u001b[0m\u001b[0;34m=\u001b[0m\u001b[0msubfeed_dtype\u001b[0m\u001b[0;34m)\u001b[0m\u001b[0;34m\u001b[0m\u001b[0m\n\u001b[0m\u001b[1;32m    969\u001b[0m \u001b[0;34m\u001b[0m\u001b[0m\n\u001b[1;32m    970\u001b[0m           if (not is_tensor_handle_feed and\n",
      "\u001b[0;32m/home/leoara01/anaconda3/lib/python3.6/site-packages/numpy/core/numeric.py\u001b[0m in \u001b[0;36masarray\u001b[0;34m(a, dtype, order)\u001b[0m\n\u001b[1;32m    529\u001b[0m \u001b[0;34m\u001b[0m\u001b[0m\n\u001b[1;32m    530\u001b[0m     \"\"\"\n\u001b[0;32m--> 531\u001b[0;31m     \u001b[0;32mreturn\u001b[0m \u001b[0marray\u001b[0m\u001b[0;34m(\u001b[0m\u001b[0ma\u001b[0m\u001b[0;34m,\u001b[0m \u001b[0mdtype\u001b[0m\u001b[0;34m,\u001b[0m \u001b[0mcopy\u001b[0m\u001b[0;34m=\u001b[0m\u001b[0;32mFalse\u001b[0m\u001b[0;34m,\u001b[0m \u001b[0morder\u001b[0m\u001b[0;34m=\u001b[0m\u001b[0morder\u001b[0m\u001b[0;34m)\u001b[0m\u001b[0;34m\u001b[0m\u001b[0m\n\u001b[0m\u001b[1;32m    532\u001b[0m \u001b[0;34m\u001b[0m\u001b[0m\n\u001b[1;32m    533\u001b[0m \u001b[0;34m\u001b[0m\u001b[0m\n",
      "\u001b[0;31mValueError\u001b[0m: could not broadcast input array from shape (8,784) into shape (8)"
     ]
    }
   ],
   "source": [
    "for step in range(num_steps):\n",
    "    # Gather some real data and some latent z values    \n",
    "    x_np = mnist.train.next_batch(batch_size)\n",
    "    z_np = np.random.normal(0, 0.1, [batch_size, 100])\n",
    "    \n",
    "    # update discriminator\n",
    "    sess.run([loss_d, opt_disc], {X: x_np,Z: z_np})\n",
    "\n",
    "    # update generator\n",
    "    z_np = gen.sample(batch_size)    \n",
    "    sess.run([loss_g, opt_gen], {Z: z_np})\n",
    "    \n",
    "    # write logs at every iteration\n",
    "    summary = merged_summary_op.eval(\n",
    "        feed_dict={X: x_np,z: z_np})\n",
    "    summary_writer.add_summary(summary, step)\n",
    "        "
   ]
  },
  {
   "cell_type": "code",
   "execution_count": null,
   "metadata": {
    "collapsed": true
   },
   "outputs": [],
   "source": [
    "x_np = mnist.train.next_batch(batch_size)"
   ]
  },
  {
   "cell_type": "code",
   "execution_count": null,
   "metadata": {
    "collapsed": true
   },
   "outputs": [],
   "source": []
  }
 ],
 "metadata": {
  "kernelspec": {
   "display_name": "Python 3",
   "language": "python",
   "name": "python3"
  },
  "language_info": {
   "codemirror_mode": {
    "name": "ipython",
    "version": 3
   },
   "file_extension": ".py",
   "mimetype": "text/x-python",
   "name": "python",
   "nbconvert_exporter": "python",
   "pygments_lexer": "ipython3",
   "version": "3.6.0"
  }
 },
 "nbformat": 4,
 "nbformat_minor": 2
}
