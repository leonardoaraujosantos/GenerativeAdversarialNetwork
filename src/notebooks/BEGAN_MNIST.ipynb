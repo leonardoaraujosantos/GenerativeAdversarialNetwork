{
 "cells": [
  {
   "cell_type": "markdown",
   "metadata": {},
   "source": [
    "# Simplest BEGAN\n",
    "Simple example using vanilla Neural networks\n",
    "\n",
    "### References\n",
    "* https://blog.heuritech.com/2017/04/11/began-state-of-the-art-generation-of-faces-with-generative-adversarial-networks/\n",
    "* [Paper](https://arxiv.org/pdf/1703.10717.pdf)"
   ]
  },
  {
   "cell_type": "code",
   "execution_count": 1,
   "metadata": {},
   "outputs": [
    {
     "name": "stdout",
     "output_type": "stream",
     "text": [
      "Successfully downloaded train-images-idx3-ubyte.gz 9912422 bytes.\n",
      "Extracting ../../MNIST_data/train-images-idx3-ubyte.gz\n",
      "Successfully downloaded train-labels-idx1-ubyte.gz 28881 bytes.\n",
      "Extracting ../../MNIST_data/train-labels-idx1-ubyte.gz\n",
      "Successfully downloaded t10k-images-idx3-ubyte.gz 1648877 bytes.\n",
      "Extracting ../../MNIST_data/t10k-images-idx3-ubyte.gz\n",
      "Successfully downloaded t10k-labels-idx1-ubyte.gz 4542 bytes.\n",
      "Extracting ../../MNIST_data/t10k-labels-idx1-ubyte.gz\n"
     ]
    }
   ],
   "source": [
    "import tensorflow as tf\n",
    "from tensorflow.examples.tutorials.mnist import input_data\n",
    "import numpy as np\n",
    "import matplotlib.pyplot as plt\n",
    "import matplotlib.gridspec as gridspec\n",
    "import os\n",
    "\n",
    "\n",
    "mb_size = 32\n",
    "X_dim = 784\n",
    "z_dim = 64\n",
    "h_dim = 128\n",
    "lr = 1e-3\n",
    "m = 5\n",
    "lam = 1e-3\n",
    "diversity_ratio = 0.5\n",
    "k_curr = 0\n",
    "\n",
    "mnist = input_data.read_data_sets('../../MNIST_data', one_hot=True)"
   ]
  },
  {
   "cell_type": "code",
   "execution_count": 2,
   "metadata": {
    "collapsed": true
   },
   "outputs": [],
   "source": [
    "def plot(samples):\n",
    "    fig = plt.figure(figsize=(4, 4))\n",
    "    gs = gridspec.GridSpec(4, 4)\n",
    "    gs.update(wspace=0.05, hspace=0.05)\n",
    "\n",
    "    for i, sample in enumerate(samples):\n",
    "        ax = plt.subplot(gs[i])\n",
    "        plt.axis('off')\n",
    "        ax.set_xticklabels([])\n",
    "        ax.set_yticklabels([])\n",
    "        ax.set_aspect('equal')\n",
    "        plt.imshow(sample.reshape(28, 28), cmap='Greys_r')\n",
    "\n",
    "    return fig\n",
    "\n",
    "\n",
    "def xavier_init(size):\n",
    "    in_dim = size[0]\n",
    "    xavier_stddev = 1. / tf.sqrt(in_dim / 2.)\n",
    "    return tf.random_normal(shape=size, stddev=xavier_stddev)\n",
    "\n",
    "def sample_z(m, n):\n",
    "    return np.random.uniform(-1., 1., size=[m, n])"
   ]
  },
  {
   "cell_type": "code",
   "execution_count": 3,
   "metadata": {
    "collapsed": true
   },
   "outputs": [],
   "source": [
    "X = tf.placeholder(tf.float32, shape=[None, X_dim])\n",
    "z = tf.placeholder(tf.float32, shape=[None, z_dim])\n",
    "k = tf.placeholder(tf.float32)\n",
    "\n",
    "D_W1 = tf.Variable(xavier_init([X_dim, h_dim]))\n",
    "D_b1 = tf.Variable(tf.zeros(shape=[h_dim]))\n",
    "D_W2 = tf.Variable(xavier_init([h_dim, X_dim]))\n",
    "D_b2 = tf.Variable(tf.zeros(shape=[X_dim]))\n",
    "\n",
    "G_W1 = tf.Variable(xavier_init([z_dim, h_dim]))\n",
    "G_b1 = tf.Variable(tf.zeros(shape=[h_dim]))\n",
    "G_W2 = tf.Variable(xavier_init([h_dim, X_dim]))\n",
    "G_b2 = tf.Variable(tf.zeros(shape=[X_dim]))\n",
    "\n",
    "theta_G = [G_W1, G_W2, G_b1, G_b2]\n",
    "theta_D = [D_W1, D_W2, D_b1, D_b2]\n",
    "\n",
    "\n",
    "def G(z):\n",
    "    G_h1 = tf.nn.relu(tf.matmul(z, G_W1) + G_b1)\n",
    "    G_log_prob = tf.matmul(G_h1, G_W2) + G_b2\n",
    "    G_prob = tf.nn.sigmoid(G_log_prob)    \n",
    "    return G_prob\n",
    "\n",
    "\n",
    "def D(X):\n",
    "    # Autoencoder\n",
    "    D_h1 = tf.nn.relu(tf.matmul(X, D_W1) + D_b1)\n",
    "    X_recon = tf.matmul(D_h1, D_W2) + D_b2\n",
    "    \n",
    "    # Reconstruction Loss\n",
    "    return tf.reduce_mean(tf.reduce_sum((X - X_recon)**2, 1))\n",
    "\n",
    "\n",
    "G_sample = G(z)\n",
    "\n",
    "# Reconstruction Loss (Autoencoder loss)\n",
    "D_real = D(X)\n",
    "D_fake = D(G_sample)\n",
    "\n",
    "# Get adversarial loss\n",
    "D_loss = D_real - k*D_fake\n",
    "G_loss = D_fake"
   ]
  },
  {
   "cell_type": "markdown",
   "metadata": {},
   "source": [
    "### Define optimizers\n",
    "Notice that we need only 2 optimizers to do the job."
   ]
  },
  {
   "cell_type": "code",
   "execution_count": 4,
   "metadata": {
    "collapsed": true
   },
   "outputs": [],
   "source": [
    "D_solver = (tf.train.AdamOptimizer(learning_rate=lr)\n",
    "            .minimize(D_loss, var_list=theta_D))\n",
    "G_solver = (tf.train.AdamOptimizer(learning_rate=lr)\n",
    "            .minimize(G_loss, var_list=theta_G))"
   ]
  },
  {
   "cell_type": "markdown",
   "metadata": {},
   "source": [
    "### Create session"
   ]
  },
  {
   "cell_type": "code",
   "execution_count": 6,
   "metadata": {},
   "outputs": [],
   "source": [
    "sess = tf.Session()\n",
    "sess.run(tf.global_variables_initializer())\n",
    "\n",
    "if not os.path.exists('out/'):\n",
    "    os.makedirs('out/')\n"
   ]
  },
  {
   "cell_type": "markdown",
   "metadata": {},
   "source": [
    "### Train"
   ]
  },
  {
   "cell_type": "code",
   "execution_count": 10,
   "metadata": {},
   "outputs": [
    {
     "name": "stdout",
     "output_type": "stream",
     "text": [
      "Iter-0; Convergence measure: 19.44\n",
      "Iter-1; Convergence measure: 21.43\n",
      "Iter-2; Convergence measure: 22.4\n",
      "Iter-3; Convergence measure: 18.82\n",
      "Iter-4; Convergence measure: 18.33\n",
      "Iter-5; Convergence measure: 19.76\n",
      "Iter-6; Convergence measure: 17.66\n",
      "Iter-7; Convergence measure: 20.17\n",
      "Iter-8; Convergence measure: 19.23\n",
      "Iter-9; Convergence measure: 20.03\n"
     ]
    }
   ],
   "source": [
    "for it in range(100000):\n",
    "    # Get batch of images\n",
    "    X_mb, _ = mnist.train.next_batch(mb_size)\n",
    "\n",
    "    # Optimize Discriminator\n",
    "    _, D_real_curr = sess.run(\n",
    "        [D_solver, D_real],\n",
    "        feed_dict={X: X_mb, z: sample_z(mb_size, z_dim), k: k_curr}\n",
    "    )\n",
    "\n",
    "    # Optimize Generator\n",
    "    _, D_fake_curr = sess.run(\n",
    "        [G_solver, D_fake],\n",
    "        feed_dict={X: X_mb, z: sample_z(mb_size, z_dim)}\n",
    "    )\n",
    "\n",
    "    # Adaptive term to balance \n",
    "    k_curr = k_curr + lam * (diversity_ratio*D_real_curr - D_fake_curr)\n",
    "\n",
    "    if it % 1000 == 0:\n",
    "        measure = D_real_curr + np.abs(diversity_ratio*D_real_curr - D_fake_curr)\n",
    "\n",
    "        print('Iter-{}; Convergence measure: {:.4}'.format(it//1000, measure))\n",
    "\n",
    "        samples = sess.run(G_sample, feed_dict={z: sample_z(16, z_dim)})\n",
    "\n",
    "        fig = plot(samples)\n",
    "        plt.savefig('out/{}.png'.format(str(it//1000).zfill(3)), bbox_inches='tight')        \n",
    "        plt.close(fig)"
   ]
  }
 ],
 "metadata": {
  "kernelspec": {
   "display_name": "Python 3",
   "language": "python",
   "name": "python3"
  },
  "language_info": {
   "codemirror_mode": {
    "name": "ipython",
    "version": 3
   },
   "file_extension": ".py",
   "mimetype": "text/x-python",
   "name": "python",
   "nbconvert_exporter": "python",
   "pygments_lexer": "ipython3",
   "version": "3.6.1"
  }
 },
 "nbformat": 4,
 "nbformat_minor": 2
}
