{
 "cells": [
  {
   "cell_type": "markdown",
   "metadata": {},
   "source": [
    "# Simplest 1D Gan\n",
    "Simplest example based on this tutorial:\n",
    "* [Blog post](http://blog.aylien.com/introduction-generative-adversarial-networks-code-tensorflow/)\n",
    "* [Code](https://github.com/AYLIEN/gan-intro)"
   ]
  },
  {
   "cell_type": "code",
   "execution_count": 1,
   "metadata": {},
   "outputs": [],
   "source": [
    "import numpy as np\n",
    "import tensorflow as tf\n",
    "\n",
    "# Include modules from other directories\n",
    "import sys\n",
    "sys.path.append('../tensorflow/')\n",
    "import model_util as util\n",
    "import anim_util as anim\n",
    "\n",
    "import os\n",
    "os.environ[\"CUDA_VISIBLE_DEVICES\"] = str(0)\n",
    "\n",
    "# Fix seed to reproduce same results\n",
    "seed = 42\n",
    "np.random.seed(seed)\n",
    "tf.set_random_seed(seed)\n",
    "\n",
    "# Some meta parameters\n",
    "HIDDEN_SIZE=4\n",
    "start_lr = 0.005\n",
    "decay = 0.95\n",
    "num_steps = 5000\n",
    "batch_size = 8\n",
    "num_decay_steps = 150\n",
    "logs_path = './logs'\n",
    "save_dir = './save'\n",
    "gpu_fraction = 0.1\n",
    "\n",
    "# Delete logs directory if exist\n",
    "if os.path.exists(logs_path):    \n",
    "    print('Older log exist deleting ...')\n",
    "    os.system(\"rm -rf \" + logs_path)"
   ]
  },
  {
   "cell_type": "code",
   "execution_count": 2,
   "metadata": {
    "collapsed": true
   },
   "outputs": [],
   "source": [
    "class DataDistribution(object):\n",
    "    def __init__(self):\n",
    "        self.mu = 4\n",
    "        self.sigma = 0.5\n",
    "\n",
    "    def sample(self, N):\n",
    "        samples = np.random.normal(self.mu, self.sigma, N)\n",
    "        samples.sort()\n",
    "        return samples\n",
    "\n",
    "\n",
    "class GeneratorDistribution(object):\n",
    "    def __init__(self, range):\n",
    "        self.range = range\n",
    "\n",
    "    def sample(self, N):\n",
    "        return np.linspace(-self.range, self.range, N) + np.random.random(N) * 0.01    "
   ]
  },
  {
   "cell_type": "markdown",
   "metadata": {},
   "source": [
    "### Define Generator and Discriminator models\n",
    "Observe that the discriminator on this example is more powerfull than the generator.\n",
    "* https://en.wikipedia.org/wiki/Rectifier_(neural_networks)#/media/File:Rectifier_and_softplus_functions.svg"
   ]
  },
  {
   "cell_type": "code",
   "execution_count": 3,
   "metadata": {
    "collapsed": true
   },
   "outputs": [],
   "source": [
    "def generator(input, hidden_size):\n",
    "    h0 = tf.nn.softplus(util.linear_std(input, hidden_size, 'g0'))\n",
    "    h1 = util.linear_std(h0, 1, 'g1')\n",
    "    return h1\n",
    "\n",
    "def discriminator(input, hidden_size):\n",
    "    h0 = tf.tanh(util.linear_std(input, hidden_size * 2, 'd0'))\n",
    "    h1 = tf.tanh(util.linear_std(h0, hidden_size * 2, 'd1'))\n",
    "    h2 = tf.tanh(util.linear_std(h1, hidden_size * 2, 'd2'))\n",
    "    h3 = tf.sigmoid(util.linear_std(h2, 1, 'd3'))\n",
    "    return h3"
   ]
  },
  {
   "cell_type": "markdown",
   "metadata": {
    "collapsed": true
   },
   "source": [
    "### Define GAN"
   ]
  },
  {
   "cell_type": "code",
   "execution_count": 4,
   "metadata": {},
   "outputs": [],
   "source": [
    "with tf.variable_scope('G'):\n",
    "    # z is the generator vector input\n",
    "    z = tf.placeholder(tf.float32, shape=(None, 1))\n",
    "    # G will have the generator output tensor\n",
    "    G = generator(z, HIDDEN_SIZE)\n",
    "\n",
    "with tf.variable_scope('D') as scope:\n",
    "    x = tf.placeholder(tf.float32, shape=(None, 1))\n",
    "    D_real = discriminator(x, HIDDEN_SIZE)\n",
    "    scope.reuse_variables()\n",
    "    D_fake = discriminator(G, HIDDEN_SIZE)\n",
    "\n",
    "with tf.variable_scope('loss'):\n",
    "    # Define losses\n",
    "    loss_d = tf.reduce_mean(-tf.log(D_real) - tf.log(1 - D_fake))\n",
    "    loss_g = tf.reduce_mean(-tf.log(D_fake))"
   ]
  },
  {
   "cell_type": "markdown",
   "metadata": {},
   "source": [
    "### Get parameters from Generator and Discriminator"
   ]
  },
  {
   "cell_type": "code",
   "execution_count": 5,
   "metadata": {
    "collapsed": true
   },
   "outputs": [],
   "source": [
    "vars = tf.trainable_variables()\n",
    "d_params = [v for v in vars if v.name.startswith('D/')]\n",
    "g_params = [v for v in vars if v.name.startswith('G/')]"
   ]
  },
  {
   "cell_type": "markdown",
   "metadata": {},
   "source": [
    "### Create the Session\n",
    "Basically ask tensorflow to build the graph"
   ]
  },
  {
   "cell_type": "code",
   "execution_count": 6,
   "metadata": {
    "collapsed": true
   },
   "outputs": [],
   "source": [
    "# Avoid allocating the whole memory\n",
    "gpu_options = tf.GPUOptions(per_process_gpu_memory_fraction=gpu_fraction)\n",
    "sess = tf.InteractiveSession(config=tf.ConfigProto(gpu_options=gpu_options))"
   ]
  },
  {
   "cell_type": "markdown",
   "metadata": {},
   "source": [
    "### Define the solver\n",
    "We want to use the Adam solver to minimize or loss function."
   ]
  },
  {
   "cell_type": "code",
   "execution_count": 7,
   "metadata": {
    "collapsed": true
   },
   "outputs": [],
   "source": [
    "def optimizer(loss, var_list, name='Solver'):\n",
    "    # Solver configuration\n",
    "    # Get ops to update moving_mean and moving_variance from batch_norm\n",
    "    # Reference: https://www.tensorflow.org/api_docs/python/tf/contrib/layers/batch_norm\n",
    "    update_ops = tf.get_collection(tf.GraphKeys.UPDATE_OPS)\n",
    "    with tf.name_scope(name):\n",
    "        global_step = tf.Variable(0, trainable=False)\n",
    "        starter_learning_rate = start_lr\n",
    "        # decay every 10000 steps with a base of 0.96\n",
    "        learning_rate = tf.train.exponential_decay(starter_learning_rate, global_step,\n",
    "                                                   num_decay_steps, decay, staircase=True)\n",
    "\n",
    "        # Basically update the batch_norm moving averages before the training step\n",
    "        # http://ruishu.io/2016/12/27/batchnorm/\n",
    "        with tf.control_dependencies(update_ops):\n",
    "            train_step = tf.train.AdamOptimizer(\n",
    "                learning_rate).minimize(loss, global_step=global_step, var_list=var_list)\n",
    "    \n",
    "    return train_step\n"
   ]
  },
  {
   "cell_type": "code",
   "execution_count": 8,
   "metadata": {},
   "outputs": [],
   "source": [
    "opt_disc = optimizer(loss_d, d_params, 'Solver_Disc')\n",
    "opt_gen = optimizer(loss_g, g_params, 'Solver_Gen')"
   ]
  },
  {
   "cell_type": "markdown",
   "metadata": {},
   "source": [
    "### Add some variables to tensorboard"
   ]
  },
  {
   "cell_type": "code",
   "execution_count": 9,
   "metadata": {
    "collapsed": true
   },
   "outputs": [],
   "source": [
    "# Create histogram for labels\n",
    "tf.summary.histogram(\"data_dist\", x)\n",
    "tf.summary.histogram(\"latent\", z)\n",
    "\n",
    "# Monitor loss, learning_rate, global_step, etc...\n",
    "tf.summary.scalar(\"loss_disc\", loss_d)\n",
    "tf.summary.scalar(\"loss_gen\", loss_g)\n",
    "# merge all summaries into a single op\n",
    "merged_summary_op = tf.summary.merge_all()\n",
    "\n",
    "# Configure where to save the logs for tensorboard\n",
    "summary_writer = tf.summary.FileWriter(logs_path, graph=tf.get_default_graph())"
   ]
  },
  {
   "cell_type": "markdown",
   "metadata": {},
   "source": [
    "### Initialize the values (Random values of weights)"
   ]
  },
  {
   "cell_type": "code",
   "execution_count": 10,
   "metadata": {
    "collapsed": true
   },
   "outputs": [],
   "source": [
    "# Initialize all random variables (Weights/Bias)\n",
    "sess.run(tf.global_variables_initializer())"
   ]
  },
  {
   "cell_type": "code",
   "execution_count": 11,
   "metadata": {
    "collapsed": true
   },
   "outputs": [],
   "source": [
    "data = DataDistribution()\n",
    "gen = GeneratorDistribution(range=8)"
   ]
  },
  {
   "cell_type": "code",
   "execution_count": 14,
   "metadata": {},
   "outputs": [],
   "source": [
    "anim_frames = []\n",
    "for step in range(num_steps):\n",
    "    # update discriminator\n",
    "    x_np = data.sample(batch_size)\n",
    "    z_np = gen.sample(batch_size)    \n",
    "    sess.run([loss_d, opt_disc], {x: np.reshape(x_np, (batch_size, 1)),z: np.reshape(z_np, (batch_size, 1))})\n",
    "\n",
    "    # update generator\n",
    "    z_np = gen.sample(batch_size)    \n",
    "    sess.run([loss_g, opt_gen], {z: np.reshape(z_np, (batch_size, 1))})\n",
    "    \n",
    "    # write logs at every iteration\n",
    "    summary = merged_summary_op.eval(\n",
    "        feed_dict={x: np.reshape(x_np, (batch_size, 1)),z: np.reshape(z_np, (batch_size, 1))})\n",
    "    summary_writer.add_summary(summary, step)\n",
    "    \n",
    "    # Handle animation    \n",
    "    anim_frames.append(anim.samples(D_real, G, x, z, sess, data, gen.range, batch_size))"
   ]
  },
  {
   "cell_type": "code",
   "execution_count": 15,
   "metadata": {
    "collapsed": true
   },
   "outputs": [],
   "source": [
    "anim.save_animation(anim_frames, './plot.mp4', gen.range)"
   ]
  }
 ],
 "metadata": {
  "kernelspec": {
   "display_name": "Python 3",
   "language": "python",
   "name": "python3"
  },
  "language_info": {
   "codemirror_mode": {
    "name": "ipython",
    "version": 3
   },
   "file_extension": ".py",
   "mimetype": "text/x-python",
   "name": "python",
   "nbconvert_exporter": "python",
   "pygments_lexer": "ipython3",
   "version": "3.6.1"
  }
 },
 "nbformat": 4,
 "nbformat_minor": 2
}
