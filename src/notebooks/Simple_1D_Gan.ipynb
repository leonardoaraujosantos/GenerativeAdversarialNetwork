{
 "cells": [
  {
   "cell_type": "markdown",
   "metadata": {},
   "source": [
    "# Simplest 1D Gan\n",
    "Simplest example based on this tutorial:\n",
    "* [Blog post](http://blog.aylien.com/introduction-generative-adversarial-networks-code-tensorflow/)\n",
    "* [Code](https://github.com/AYLIEN/gan-intro)\n",
    "* [Reference of the reference](http://blog.evjang.com/2016/06/generative-adversarial-nets-in.html)\n",
    "\n",
    "### Other References\n",
    "* [Fantastic GANS and Where to find them](http://guimperarnau.com/blog/2017/03/Fantastic-GANs-and-where-to-find-them)\n",
    "* [Karpathy Demo](http://cs.stanford.edu/people/karpathy/gan/)\n",
    "* [Probabiliy Theory Basics](https://medium.com/@dubovikov.kirill/probabiliy-theory-basics-4ef523ae0820)\n",
    "* [Ian Goodfellow Paper](https://arxiv.org/pdf/1406.2661.pdf)\n",
    "* [How do GANs intuitively work](https://hackernoon.com/how-do-gans-intuitively-work-2dda07f247a1)\n",
    "* [Mode Collapse](http://aiden.nibali.org/blog/2017-01-18-mode-collapse-gans/)\n",
    "* [Gan Objective](http://aiden.nibali.org/blog/2016-12-21-gan-objective/)\n",
    "* [Tensorflow sharing variables](https://www.tensorflow.org/programmers_guide/variable_scope)\n",
    "* [BEGAN blog](https://blog.heuritech.com/2017/04/11/began-state-of-the-art-generation-of-faces-with-generative-adversarial-networks/)\n",
    "* [BEGAN paper](https://arxiv.org/pdf/1703.10717.pdf)\n",
    "* [BEGAN Tensorflow](https://github.com/carpedm20/BEGAN-tensorflow)\n",
    "* [Veegan blog](https://akashgit.github.io/VEEGAN/)\n",
    "* [Veegan paper](https://arxiv.org/pdf/1705.07761.pdf)\n",
    "* [Unrolled Gans](https://arxiv.org/pdf/1611.02163.pdf)\n",
    "* [F-Gan](https://arxiv.org/pdf/1606.00709.pdf)\n",
    "* [Gans in Keras](https://github.com/eriklindernoren/Keras-GAN)"
   ]
  },
  {
   "cell_type": "code",
   "execution_count": 1,
   "metadata": {
    "collapsed": false
   },
   "outputs": [],
   "source": [
    "import numpy as np\n",
    "import tensorflow as tf\n",
    "\n",
    "# Include modules from other directories\n",
    "import sys\n",
    "sys.path.append('../tensorflow/')\n",
    "import model_util as util\n",
    "import anim_util as anim\n",
    "\n",
    "import os\n",
    "os.environ[\"CUDA_VISIBLE_DEVICES\"] = str(0)\n",
    "\n",
    "# Fix seed to reproduce same results\n",
    "seed = 42\n",
    "np.random.seed(seed)\n",
    "tf.set_random_seed(seed)\n",
    "\n",
    "# Some meta parameters\n",
    "HIDDEN_SIZE=4\n",
    "start_lr = 0.005\n",
    "decay = 0.95\n",
    "num_steps = 5000\n",
    "batch_size = 8\n",
    "num_decay_steps = 150\n",
    "logs_path = './logs'\n",
    "save_dir = './save'\n",
    "gpu_fraction = 0.1\n",
    "\n",
    "# Delete logs directory if exist\n",
    "if os.path.exists(logs_path):        \n",
    "    os.system(\"rm -rf \" + logs_path)"
   ]
  },
  {
   "cell_type": "code",
   "execution_count": 2,
   "metadata": {
    "collapsed": true
   },
   "outputs": [],
   "source": [
    "class DataDistribution(object):\n",
    "    def __init__(self):\n",
    "        self.mu = 4\n",
    "        self.sigma = 0.5\n",
    "\n",
    "    def sample(self, N):\n",
    "        samples = np.random.normal(self.mu, self.sigma, N)\n",
    "        samples.sort()\n",
    "        return samples\n",
    "\n",
    "\n",
    "class GeneratorDistribution(object):\n",
    "    def __init__(self, range):\n",
    "        self.range = range\n",
    "\n",
    "    def sample(self, N):\n",
    "        return np.linspace(-self.range, self.range, N) + np.random.random(N) * 0.01    "
   ]
  },
  {
   "cell_type": "markdown",
   "metadata": {},
   "source": [
    "### Create functions for Generator and Discriminator\n",
    "Observe that the discriminator on this example is more powerfull than the generator, if the mini-batch feature is not used."
   ]
  },
  {
   "cell_type": "code",
   "execution_count": 3,
   "metadata": {
    "collapsed": true
   },
   "outputs": [],
   "source": [
    "# Minibatch feature\n",
    "# https://arxiv.org/pdf/1606.03498.pdf\n",
    "def minibatch(input, num_kernels=5, kernel_dim=3):\n",
    "    # Transform feature into a matrix\n",
    "    x = util.linear_std(input, num_kernels * kernel_dim, name='minibatch', stddev=0.02)\n",
    "    activation = tf.reshape(x, (-1, num_kernels, kernel_dim))        \n",
    "    \n",
    "    # Calculate the L1 and then the sum of the negative exponential\n",
    "    diffs = tf.expand_dims(activation, 3) - tf.expand_dims(tf.transpose(activation, [1, 2, 0]), 0)\n",
    "    abs_diffs = tf.reduce_sum(tf.abs(diffs), 2)\n",
    "    minibatch_features = tf.reduce_sum(tf.exp(-abs_diffs), 2)\n",
    "    \n",
    "    # Concatenate results back on the input (of some layer of the discriminator)\n",
    "    return tf.concat([input, minibatch_features], 1)    \n",
    "\n",
    "def generator(input, hidden_size):\n",
    "    h0 = tf.nn.relu(util.linear_std(input, hidden_size, 'g0'))    \n",
    "    # Here we cannot use a tanh because our data has mean bigger than zero (Just this case)\n",
    "    h1 = util.linear_std(h0, 1, 'g1')\n",
    "    return h1\n",
    "\n",
    "def discriminator(input, hidden_size):\n",
    "    h0 = util.lrelu(util.linear_std(input, hidden_size * 2, 'd0'))\n",
    "    h1 = util.lrelu(util.linear_std(h0, hidden_size * 2, 'd1'))\n",
    "    h2 = util.lrelu(util.linear_std(h1, hidden_size * 2, 'd2'))\n",
    "    h3 = tf.sigmoid(util.linear_std(h2, 1, 'd3'))\n",
    "    return h3\n",
    "\n",
    "def discriminator_mb(input, hidden_size):\n",
    "    h0 = util.lrelu(util.linear_std(input, hidden_size * 2, 'd0'))\n",
    "    h1 = util.lrelu(util.linear_std(h0, hidden_size * 2, 'd1'))\n",
    "    # Notice that using the mini-batch technique the discriminator can be smaller\n",
    "    h2 = minibatch(h1)    \n",
    "    h3 = tf.sigmoid(util.linear_std(h2, 1, 'd3'))\n",
    "    return h3"
   ]
  },
  {
   "cell_type": "markdown",
   "metadata": {
    "collapsed": true
   },
   "source": [
    "### Define GAN model"
   ]
  },
  {
   "cell_type": "code",
   "execution_count": 4,
   "metadata": {
    "collapsed": false
   },
   "outputs": [],
   "source": [
    "with tf.variable_scope('GAN'):\n",
    "    # z is the generator vector input\n",
    "    z = tf.placeholder(tf.float32, shape=(None, 1), name='Z')\n",
    "    # x is the placeholder for real data\n",
    "    x = tf.placeholder(tf.float32, shape=(None, 1), name='X')\n",
    "    \n",
    "    with tf.variable_scope('G'):        \n",
    "        # G will have the generator output tensor\n",
    "        G = generator(z, HIDDEN_SIZE)\n",
    "\n",
    "    with tf.variable_scope('D') as scope:        \n",
    "        #D_real = discriminator(x, HIDDEN_SIZE)\n",
    "        D_real = discriminator_mb(x, HIDDEN_SIZE)\n",
    "        # Make discriminator for real/fake input share the same set of weights\n",
    "        scope.reuse_variables()\n",
    "        #D_fake = discriminator(G, HIDDEN_SIZE)\n",
    "        D_fake = discriminator_mb(G, HIDDEN_SIZE)"
   ]
  },
  {
   "cell_type": "markdown",
   "metadata": {},
   "source": [
    "### Define Loss function"
   ]
  },
  {
   "cell_type": "code",
   "execution_count": 5,
   "metadata": {
    "collapsed": true
   },
   "outputs": [],
   "source": [
    "with tf.variable_scope('loss_disc'):\n",
    "    # Define losses\n",
    "    loss_d = tf.reduce_mean(-tf.log(D_real) - tf.log(1 - D_fake))\n",
    "\n",
    "with tf.variable_scope('loss_gen'):\n",
    "    loss_g = tf.reduce_mean(-tf.log(D_fake))"
   ]
  },
  {
   "cell_type": "markdown",
   "metadata": {},
   "source": [
    "### Get parameters from Generator and Discriminator"
   ]
  },
  {
   "cell_type": "code",
   "execution_count": 6,
   "metadata": {
    "collapsed": true
   },
   "outputs": [],
   "source": [
    "vars = tf.trainable_variables()\n",
    "d_params = [v for v in vars if v.name.startswith('GAN/D/')]\n",
    "g_params = [v for v in vars if v.name.startswith('GAN/G/')]"
   ]
  },
  {
   "cell_type": "markdown",
   "metadata": {},
   "source": [
    "### Create the Session\n",
    "Basically ask tensorflow to build the graph"
   ]
  },
  {
   "cell_type": "code",
   "execution_count": 7,
   "metadata": {
    "collapsed": true
   },
   "outputs": [],
   "source": [
    "# Avoid allocating the whole memory\n",
    "gpu_options = tf.GPUOptions(per_process_gpu_memory_fraction=gpu_fraction)\n",
    "sess = tf.InteractiveSession(config=tf.ConfigProto(gpu_options=gpu_options))"
   ]
  },
  {
   "cell_type": "markdown",
   "metadata": {},
   "source": [
    "### Define the solver\n",
    "We want to use the Adam solver to minimize or loss function."
   ]
  },
  {
   "cell_type": "code",
   "execution_count": 8,
   "metadata": {
    "collapsed": true
   },
   "outputs": [],
   "source": [
    "def optimizer(loss, var_list, name='Solver'):\n",
    "    # Solver configuration\n",
    "    # Get ops to update moving_mean and moving_variance from batch_norm\n",
    "    # Reference: https://www.tensorflow.org/api_docs/python/tf/contrib/layers/batch_norm\n",
    "    update_ops = tf.get_collection(tf.GraphKeys.UPDATE_OPS)\n",
    "    with tf.name_scope(name):\n",
    "        global_step = tf.Variable(0, trainable=False)\n",
    "        starter_learning_rate = start_lr\n",
    "        # decay every 10000 steps with a base of 0.96\n",
    "        learning_rate = tf.train.exponential_decay(starter_learning_rate, global_step,\n",
    "                                                   num_decay_steps, decay, staircase=True)\n",
    "\n",
    "        # Basically update the batch_norm moving averages before the training step\n",
    "        # http://ruishu.io/2016/12/27/batchnorm/\n",
    "        with tf.control_dependencies(update_ops):\n",
    "            train_step = tf.train.AdamOptimizer(\n",
    "                learning_rate).minimize(loss, global_step=global_step, var_list=var_list)\n",
    "    \n",
    "    return train_step, learning_rate\n"
   ]
  },
  {
   "cell_type": "code",
   "execution_count": 9,
   "metadata": {
    "collapsed": true
   },
   "outputs": [],
   "source": [
    "opt_disc, lr_disc = optimizer(loss_d, d_params, 'Solver_Disc')\n",
    "opt_gen, lr_gen = optimizer(loss_g, g_params, 'Solver_Gen')"
   ]
  },
  {
   "cell_type": "markdown",
   "metadata": {},
   "source": [
    "### Add some variables to tensorboard"
   ]
  },
  {
   "cell_type": "code",
   "execution_count": 10,
   "metadata": {
    "collapsed": true
   },
   "outputs": [],
   "source": [
    "# Create histogram for labels\n",
    "tf.summary.histogram(\"data_dist\", x)\n",
    "tf.summary.histogram(\"latent\", z)\n",
    "tf.summary.histogram(\"generator\", G)\n",
    "\n",
    "# Monitor loss, learning_rate, global_step, etc...\n",
    "tf.summary.scalar(\"loss_disc\", loss_d)\n",
    "tf.summary.scalar(\"loss_gen\", loss_g)\n",
    "tf.summary.scalar(\"lr_disc\", lr_disc)\n",
    "tf.summary.scalar(\"lr_gen\", lr_gen)\n",
    "# merge all summaries into a single op\n",
    "merged_summary_op = tf.summary.merge_all()\n",
    "\n",
    "# Configure where to save the logs for tensorboard\n",
    "summary_writer = tf.summary.FileWriter(logs_path, graph=tf.get_default_graph())"
   ]
  },
  {
   "cell_type": "markdown",
   "metadata": {},
   "source": [
    "### Initialize the values (Random values of weights)"
   ]
  },
  {
   "cell_type": "code",
   "execution_count": 11,
   "metadata": {
    "collapsed": true
   },
   "outputs": [],
   "source": [
    "# Initialize all random variables (Weights/Bias)\n",
    "sess.run(tf.global_variables_initializer())"
   ]
  },
  {
   "cell_type": "code",
   "execution_count": null,
   "metadata": {
    "collapsed": true
   },
   "outputs": [],
   "source": [
    "data = DataDistribution()\n",
    "gen = GeneratorDistribution(range=8)"
   ]
  },
  {
   "cell_type": "code",
   "execution_count": null,
   "metadata": {
    "collapsed": true
   },
   "outputs": [],
   "source": [
    "anim_frames = []\n",
    "for step in range(num_steps):\n",
    "    # Gather some real data and some latent z values\n",
    "    x_np = data.sample(batch_size)\n",
    "    z_np = gen.sample(batch_size)    \n",
    "    \n",
    "    # update discriminator\n",
    "    sess.run([loss_d, opt_disc], {x: np.reshape(x_np, (batch_size, 1)),z: np.reshape(z_np, (batch_size, 1))})\n",
    "\n",
    "    # update generator\n",
    "    z_np = gen.sample(batch_size)    \n",
    "    sess.run([loss_g, opt_gen], {z: np.reshape(z_np, (batch_size, 1))})\n",
    "    \n",
    "    # write logs at every iteration\n",
    "    summary = merged_summary_op.eval(\n",
    "        feed_dict={x: np.reshape(x_np, (batch_size, 1)),z: np.reshape(z_np, (batch_size, 1))})\n",
    "    summary_writer.add_summary(summary, step)\n",
    "    \n",
    "    # Handle animation (Make the whole training slow ...)\n",
    "    anim_frames.append(anim.samples(D_real, G, x, z, sess, data, gen.range, batch_size))"
   ]
  },
  {
   "cell_type": "markdown",
   "metadata": {},
   "source": [
    "### Create a video\n",
    "Create a video with every iteration displaying:\n",
    "* Real data\n",
    "* Decision boundary\n",
    "* Generated Data"
   ]
  },
  {
   "cell_type": "code",
   "execution_count": null,
   "metadata": {
    "collapsed": true
   },
   "outputs": [],
   "source": [
    "anim.save_animation(anim_frames, './plot.mp4', gen.range)"
   ]
  }
 ],
 "metadata": {
  "kernelspec": {
   "display_name": "Python 3",
   "language": "python",
   "name": "python3"
  },
  "language_info": {
   "codemirror_mode": {
    "name": "ipython",
    "version": 3
   },
   "file_extension": ".py",
   "mimetype": "text/x-python",
   "name": "python",
   "nbconvert_exporter": "python",
   "pygments_lexer": "ipython3",
   "version": "3.6.0"
  }
 },
 "nbformat": 4,
 "nbformat_minor": 2
}
