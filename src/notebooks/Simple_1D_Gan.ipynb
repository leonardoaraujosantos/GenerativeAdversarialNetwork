{
 "cells": [
  {
   "cell_type": "markdown",
   "metadata": {},
   "source": [
    "# Simplest 1D Gan\n",
    "Simplest example based on this tutorial:\n",
    "* http://blog.aylien.com/introduction-generative-adversarial-networks-code-tensorflow/"
   ]
  },
  {
   "cell_type": "code",
   "execution_count": 3,
   "metadata": {
    "collapsed": true
   },
   "outputs": [],
   "source": [
    "import numpy as np\n",
    "import tensorflow as tf"
   ]
  },
  {
   "cell_type": "code",
   "execution_count": 1,
   "metadata": {
    "collapsed": true
   },
   "outputs": [],
   "source": [
    "class DataDistribution(object):\n",
    "    def __init__(self):\n",
    "        self.mu = 4\n",
    "        self.sigma = 0.5\n",
    "\n",
    "    def sample(self, N):\n",
    "        samples = np.random.normal(self.mu, self.sigma, N)\n",
    "        samples.sort()\n",
    "        return samples"
   ]
  },
  {
   "cell_type": "markdown",
   "metadata": {},
   "source": [
    "### Define Generator and Discriminator networks\n",
    "* https://en.wikipedia.org/wiki/Rectifier_(neural_networks)#/media/File:Rectifier_and_softplus_functions.svg"
   ]
  },
  {
   "cell_type": "code",
   "execution_count": 4,
   "metadata": {
    "collapsed": true
   },
   "outputs": [],
   "source": [
    "def generator(input, hidden_size):\n",
    "    h0 = tf.nn.softplus(linear(input, hidden_size, 'g0'))\n",
    "    h1 = linear(h0, 1, 'g1')\n",
    "    return h1\n",
    "\n",
    "def discriminator(input, hidden_size):\n",
    "    h0 = tf.tanh(linear(input, hidden_size * 2, 'd0'))\n",
    "    h1 = tf.tanh(linear(h0, hidden_size * 2, 'd1'))\n",
    "    h2 = tf.tanh(linear(h1, hidden_size * 2, 'd2'))\n",
    "    h3 = tf.sigmoid(linear(h2, 1, 'd3'))\n",
    "    return h3"
   ]
  },
  {
   "cell_type": "code",
   "execution_count": null,
   "metadata": {
    "collapsed": true
   },
   "outputs": [],
   "source": []
  }
 ],
 "metadata": {
  "kernelspec": {
   "display_name": "Python 3",
   "language": "python",
   "name": "python3"
  },
  "language_info": {
   "codemirror_mode": {
    "name": "ipython",
    "version": 3
   },
   "file_extension": ".py",
   "mimetype": "text/x-python",
   "name": "python",
   "nbconvert_exporter": "python",
   "pygments_lexer": "ipython3",
   "version": "3.6.0"
  }
 },
 "nbformat": 4,
 "nbformat_minor": 2
}
